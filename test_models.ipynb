{
 "cells": [
  {
   "cell_type": "code",
   "execution_count": 7,
   "metadata": {},
   "outputs": [
    {
     "data": {
      "text/plain": [
       "====================================================================================================\n",
       "Layer (type:depth-idx)                             Output Shape              Param #\n",
       "====================================================================================================\n",
       "DC_CDN_Classifier                                  [1, 1]                    --\n",
       "├─FeatureExtractor: 1-1                            [1, 384, 1, 1]            --\n",
       "│    └─DC_CDN: 2-1                                 [1, 32, 32]               6\n",
       "│    │    └─Sequential: 3-1                        [1, 64, 256, 256]         1,088\n",
       "│    │    └─Sequential: 3-2                        [1, 64, 256, 256]         1,088\n",
       "│    │    └─Sequential: 3-3                        [1, 128, 128, 128]        292,744\n",
       "│    │    └─Sequential: 3-4                        [1, 128, 128, 128]        292,744\n",
       "│    │    └─Sequential: 3-5                        [1, 128, 64, 64]          333,704\n",
       "│    │    └─Sequential: 3-6                        [1, 128, 64, 64]          333,704\n",
       "│    │    └─Sequential: 3-7                        [1, 128, 32, 32]          333,704\n",
       "│    │    └─Sequential: 3-8                        [1, 128, 32, 32]          333,704\n",
       "│    │    └─Upsample: 3-9                          [1, 128, 32, 32]          --\n",
       "│    │    └─Upsample: 3-10                         [1, 128, 32, 32]          --\n",
       "│    │    └─Upsample: 3-11                         [1, 128, 32, 32]          --\n",
       "│    │    └─Sequential: 3-12                       [1, 128, 32, 32]          246,016\n",
       "│    │    └─Sequential: 3-13                       [1, 64, 32, 32]           41,088\n",
       "│    │    └─Upsample: 3-14                         [1, 128, 32, 32]          --\n",
       "│    │    └─Upsample: 3-15                         [1, 128, 32, 32]          --\n",
       "│    │    └─Upsample: 3-16                         [1, 128, 32, 32]          --\n",
       "│    │    └─Sequential: 3-17                       [1, 128, 32, 32]          246,016\n",
       "│    │    └─Sequential: 3-18                       [1, 64, 32, 32]           41,088\n",
       "│    │    └─Sequential: 3-19                       [1, 1, 32, 32]            128\n",
       "│    └─AdaptiveAvgPool2d: 2-2                      [1, 384, 1, 1]            --\n",
       "├─Sequential: 1-2                                  [1, 1]                    --\n",
       "│    └─Flatten: 2-3                                [1, 384]                  --\n",
       "│    └─Linear: 2-4                                 [1, 64]                   24,640\n",
       "│    └─ReLU: 2-5                                   [1, 64]                   --\n",
       "│    └─Linear: 2-6                                 [1, 1]                    65\n",
       "│    └─Sigmoid: 2-7                                [1, 1]                    --\n",
       "====================================================================================================\n",
       "Total params: 2,521,527\n",
       "Trainable params: 2,521,527\n",
       "Non-trainable params: 0\n",
       "Total mult-adds (M): 0.16\n",
       "====================================================================================================\n",
       "Input size (MB): 0.79\n",
       "Forward/backward pass size (MB): 692.33\n",
       "Params size (MB): 0.13\n",
       "Estimated Total Size (MB): 693.24\n",
       "===================================================================================================="
      ]
     },
     "execution_count": 7,
     "metadata": {},
     "output_type": "execute_result"
    }
   ],
   "source": [
    "from torchinfo import summary\n",
    "from models.DC_CDN import DC_CDN_Classifier\n",
    "import torch\n",
    "\n",
    "device = 'cuda:0'\n",
    "model = DC_CDN_Classifier(device=device).to(device)\n",
    "summary(model, input_size=(1, 3, 256, 256))\n"
   ]
  },
  {
   "cell_type": "code",
   "execution_count": 9,
   "metadata": {},
   "outputs": [],
   "source": [
    "import pandas as pd "
   ]
  },
  {
   "cell_type": "code",
   "execution_count": 16,
   "metadata": {},
   "outputs": [
    {
     "data": {
      "text/html": [
       "<div>\n",
       "<style scoped>\n",
       "    .dataframe tbody tr th:only-of-type {\n",
       "        vertical-align: middle;\n",
       "    }\n",
       "\n",
       "    .dataframe tbody tr th {\n",
       "        vertical-align: top;\n",
       "    }\n",
       "\n",
       "    .dataframe thead th {\n",
       "        text-align: right;\n",
       "    }\n",
       "</style>\n",
       "<table border=\"1\" class=\"dataframe\">\n",
       "  <thead>\n",
       "    <tr style=\"text-align: right;\">\n",
       "      <th></th>\n",
       "      <th>0</th>\n",
       "      <th>1</th>\n",
       "    </tr>\n",
       "  </thead>\n",
       "  <tbody>\n",
       "    <tr>\n",
       "      <th>0</th>\n",
       "      <td>Data/train/2623/live/000000.jpg</td>\n",
       "      <td>0</td>\n",
       "    </tr>\n",
       "    <tr>\n",
       "      <th>1</th>\n",
       "      <td>Data/train/5489/spoof/000001.jpg</td>\n",
       "      <td>1</td>\n",
       "    </tr>\n",
       "    <tr>\n",
       "      <th>2</th>\n",
       "      <td>Data/train/7149/spoof/000002.jpg</td>\n",
       "      <td>1</td>\n",
       "    </tr>\n",
       "    <tr>\n",
       "      <th>3</th>\n",
       "      <td>Data/train/4980/spoof/000003.jpg</td>\n",
       "      <td>1</td>\n",
       "    </tr>\n",
       "    <tr>\n",
       "      <th>4</th>\n",
       "      <td>Data/train/7124/spoof/000004.jpg</td>\n",
       "      <td>1</td>\n",
       "    </tr>\n",
       "  </tbody>\n",
       "</table>\n",
       "</div>"
      ],
      "text/plain": [
       "                                  0  1\n",
       "0   Data/train/2623/live/000000.jpg  0\n",
       "1  Data/train/5489/spoof/000001.jpg  1\n",
       "2  Data/train/7149/spoof/000002.jpg  1\n",
       "3  Data/train/4980/spoof/000003.jpg  1\n",
       "4  Data/train/7124/spoof/000004.jpg  1"
      ]
     },
     "execution_count": 16,
     "metadata": {},
     "output_type": "execute_result"
    }
   ],
   "source": [
    "df_train = pd.read_csv(\"/data02/manhquang/dataset/celeba-spoof/CelebA_Spoof_/CelebA_Spoof/metas/intra_test/train_label.txt\", sep=\" \", header=None)\n",
    "df_train.head()"
   ]
  },
  {
   "cell_type": "code",
   "execution_count": 17,
   "metadata": {},
   "outputs": [
    {
     "data": {
      "text/plain": [
       "1\n",
       "1    331943\n",
       "0    162462\n",
       "Name: count, dtype: int64"
      ]
     },
     "execution_count": 17,
     "metadata": {},
     "output_type": "execute_result"
    }
   ],
   "source": [
    "df_train[1].value_counts()"
   ]
  },
  {
   "cell_type": "code",
   "execution_count": 18,
   "metadata": {},
   "outputs": [
    {
     "data": {
      "text/html": [
       "<div>\n",
       "<style scoped>\n",
       "    .dataframe tbody tr th:only-of-type {\n",
       "        vertical-align: middle;\n",
       "    }\n",
       "\n",
       "    .dataframe tbody tr th {\n",
       "        vertical-align: top;\n",
       "    }\n",
       "\n",
       "    .dataframe thead th {\n",
       "        text-align: right;\n",
       "    }\n",
       "</style>\n",
       "<table border=\"1\" class=\"dataframe\">\n",
       "  <thead>\n",
       "    <tr style=\"text-align: right;\">\n",
       "      <th></th>\n",
       "      <th>0</th>\n",
       "      <th>1</th>\n",
       "    </tr>\n",
       "  </thead>\n",
       "  <tbody>\n",
       "    <tr>\n",
       "      <th>0</th>\n",
       "      <td>Data/test/6964/spoof/494405.png</td>\n",
       "      <td>1</td>\n",
       "    </tr>\n",
       "    <tr>\n",
       "      <th>1</th>\n",
       "      <td>Data/test/9596/spoof/494406.png</td>\n",
       "      <td>1</td>\n",
       "    </tr>\n",
       "    <tr>\n",
       "      <th>2</th>\n",
       "      <td>Data/test/9014/spoof/494407.png</td>\n",
       "      <td>1</td>\n",
       "    </tr>\n",
       "    <tr>\n",
       "      <th>3</th>\n",
       "      <td>Data/test/7607/spoof/494408.png</td>\n",
       "      <td>1</td>\n",
       "    </tr>\n",
       "    <tr>\n",
       "      <th>4</th>\n",
       "      <td>Data/test/5624/spoof/494409.png</td>\n",
       "      <td>1</td>\n",
       "    </tr>\n",
       "  </tbody>\n",
       "</table>\n",
       "</div>"
      ],
      "text/plain": [
       "                                 0  1\n",
       "0  Data/test/6964/spoof/494405.png  1\n",
       "1  Data/test/9596/spoof/494406.png  1\n",
       "2  Data/test/9014/spoof/494407.png  1\n",
       "3  Data/test/7607/spoof/494408.png  1\n",
       "4  Data/test/5624/spoof/494409.png  1"
      ]
     },
     "execution_count": 18,
     "metadata": {},
     "output_type": "execute_result"
    }
   ],
   "source": [
    "df_test = pd.read_csv(\"/data02/manhquang/dataset/celeba-spoof/CelebA_Spoof_/CelebA_Spoof/metas/intra_test/test_label.txt\", sep=\" \", header=None)\n",
    "df_test.head()"
   ]
  },
  {
   "cell_type": "code",
   "execution_count": 19,
   "metadata": {},
   "outputs": [
    {
     "data": {
      "text/plain": [
       "1\n",
       "1    47247\n",
       "0    19923\n",
       "Name: count, dtype: int64"
      ]
     },
     "execution_count": 19,
     "metadata": {},
     "output_type": "execute_result"
    }
   ],
   "source": [
    "df_test[1].value_counts()"
   ]
  }
 ],
 "metadata": {
  "kernelspec": {
   "display_name": "torchcuda10_1",
   "language": "python",
   "name": "python3"
  },
  "language_info": {
   "codemirror_mode": {
    "name": "ipython",
    "version": 3
   },
   "file_extension": ".py",
   "mimetype": "text/x-python",
   "name": "python",
   "nbconvert_exporter": "python",
   "pygments_lexer": "ipython3",
   "version": "3.8.18"
  }
 },
 "nbformat": 4,
 "nbformat_minor": 2
}
